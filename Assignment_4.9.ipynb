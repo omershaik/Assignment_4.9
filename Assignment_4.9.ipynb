{
 "cells": [
  {
   "cell_type": "markdown",
   "metadata": {},
   "source": [
    "### You take the SAT and score 1100. The mean score for the SAT is 1026 and the standard deviation is 209. How well did you score on the test compared to the average test taker?"
   ]
  },
  {
   "cell_type": "markdown",
   "metadata": {
    "collapsed": true
   },
   "source": [
    "X-value = 1100.\n",
    "mean = 1026\n",
    "standard deviation = 209\n",
    "\n",
    "Z-score Equation - Z = (1100 - 1026)/209\n",
    "\n",
    "= 0.354.\n",
    "\n",
    "Look up your z-value in the z-table. Z-score of 0.354 is 0.1368 + 0.5000 = .6368 or 63.68%."
   ]
  }
 ],
 "metadata": {
  "kernelspec": {
   "display_name": "Python 3",
   "language": "python",
   "name": "python3"
  },
  "language_info": {
   "codemirror_mode": {
    "name": "ipython",
    "version": 3
   },
   "file_extension": ".py",
   "mimetype": "text/x-python",
   "name": "python",
   "nbconvert_exporter": "python",
   "pygments_lexer": "ipython3",
   "version": "3.6.4"
  }
 },
 "nbformat": 4,
 "nbformat_minor": 2
}
